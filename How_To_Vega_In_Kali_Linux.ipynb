{
  "cells": [
    {
      "cell_type": "markdown",
      "metadata": {
        "id": "view-in-github",
        "colab_type": "text"
      },
      "source": [
        "<a href=\"https://colab.research.google.com/github/jaguar2012sen/Kali-Setup/blob/master/How_To_Vega_In_Kali_Linux.ipynb\" target=\"_parent\"><img src=\"https://colab.research.google.com/assets/colab-badge.svg\" alt=\"Open In Colab\"/></a>"
      ]
    },
    {
      "cell_type": "code",
      "source": [
        "wega\n"
      ],
      "metadata": {
        "id": "VLpwp2jEUnty",
        "outputId": "14832633-9dac-4018-8535-8329cbf0ceee",
        "colab": {
          "base_uri": "https://localhost:8080/",
          "height": 141
        }
      },
      "id": "VLpwp2jEUnty",
      "execution_count": 1,
      "outputs": [
        {
          "output_type": "error",
          "ename": "NameError",
          "evalue": "name 'wega' is not defined",
          "traceback": [
            "\u001b[0;31m---------------------------------------------------------------------------\u001b[0m",
            "\u001b[0;31mNameError\u001b[0m                                 Traceback (most recent call last)",
            "\u001b[0;32m<ipython-input-1-57d1755b93e0>\u001b[0m in \u001b[0;36m<cell line: 1>\u001b[0;34m()\u001b[0m\n\u001b[0;32m----> 1\u001b[0;31m \u001b[0mwega\u001b[0m\u001b[0;34m\u001b[0m\u001b[0;34m\u001b[0m\u001b[0m\n\u001b[0m",
            "\u001b[0;31mNameError\u001b[0m: name 'wega' is not defined"
          ]
        }
      ]
    },
    {
      "cell_type": "code",
      "source": [
        "github.com\n",
        "\n"
      ],
      "metadata": {
        "id": "Myo0f7zJj2es",
        "outputId": "43a8e255-c917-455c-9d67-d8f1b5820339",
        "colab": {
          "base_uri": "https://localhost:8080/",
          "height": 159
        }
      },
      "id": "Myo0f7zJj2es",
      "execution_count": 6,
      "outputs": [
        {
          "output_type": "error",
          "ename": "NameError",
          "evalue": "name 'github' is not defined",
          "traceback": [
            "\u001b[0;31m---------------------------------------------------------------------------\u001b[0m",
            "\u001b[0;31mNameError\u001b[0m                                 Traceback (most recent call last)",
            "\u001b[0;32m<ipython-input-6-421ce2d2aff8>\u001b[0m in \u001b[0;36m<cell line: 1>\u001b[0;34m()\u001b[0m\n\u001b[0;32m----> 1\u001b[0;31m \u001b[0mgithub\u001b[0m\u001b[0;34m.\u001b[0m\u001b[0mcom\u001b[0m\u001b[0;34m\u001b[0m\u001b[0;34m\u001b[0m\u001b[0m\n\u001b[0m\u001b[1;32m      2\u001b[0m \u001b[0;34m\u001b[0m\u001b[0m\n",
            "\u001b[0;31mNameError\u001b[0m: name 'github' is not defined"
          ]
        }
      ]
    },
    {
      "cell_type": "markdown",
      "id": "5949cc33",
      "metadata": {
        "id": "5949cc33"
      },
      "source": [
        "# **How To  Vega In Kali Linux**\n",
        "\n",
        "**Tap for Instant Access ➜ [how to  vega in kali linux](https://undermoreainfr.pro/?param=how+to++vega+in+kali+linux)**\n",
        "\n",
        "<img src='https://camo.githubusercontent.com/fec1d39bb1c373b3471bddabb40f265f6b40c8934d3d5a539a4bd19bb2209197/68747470733a2f2f692e6962622e636f2f585662347637732f696d6167652d323032312d30362d30362d3131343833342e706e67' alt='how to  vega in kali linux' height='350px'>\n",
        "\n",
        "## **[➜Access File Now ](https://undermoreainfr.pro/?param=how+to++vega+in+kali+linux)**</br></br></br></br></br></br></br></br></br></br><p align='center'>Kali Linux (2021) Vega Full Auto Installer Script · Issue #199 ...</p>\n",
        "<p align='center'><img src='https://camo.githubusercontent.com/fec1d39bb1c373b3471bddabb40f265f6b40c8934d3d5a539a4bd19bb2209197/68747470733a2f2f692e6962622e636f2f585662347637732f696d6167652d323032312d30362d30362d3131343833342e706e67' alt='Kali Linux (2021) Vega Full Auto Installer Script · Issue #199 ...'></p>\n",
        "<p align='center'>Kali Linux (2021) Vega Full Auto Installer Script · Issue #199 ...</p><p align='center'>Web App Pentest With Vega | Kali Linux - An Ethical Hacker'S Cookbook</p>\n",
        "<p align='center'><img src='https://static.packt-cdn.com/products/9781787121829/graphics/cce881c1-6f77-427b-94e6-d8639aa333fd.png' alt='Web App Pentest With Vega | Kali Linux - An Ethical HackerS Cookbook'></p>\n",
        "<p align='center'>Web app pentest with Vega | Kali Linux - An Ethical Hacker's Cookbook</p><p align='center'>Kali Linux - Website Penetration Testing | Tutorialspoint</p>\n",
        "<p align='center'><img src='https://www.tutorialspoint.com/kali_linux/images/vega.jpg' alt='Kali Linux - Website Penetration Testing | Tutorialspoint'></p>\n",
        "<p align='center'>Kali Linux - Website Penetration Testing | Tutorialspoint</p><p align='center'>Install And Use Vega On Kali Linux 2020 -- Web Penetration Testing</p>\n",
        "<p align='center'><img src='https://1.bp.blogspot.com/-R48cZ7-IIYM/X8HFIuQ3s9I/AAAAAAAAD_E/S-8tOqe8uh0JmMqQQcrfZiF0wyLE9BUPQCLcBGAsYHQ/s729/config%2Bjava.png' alt='Install And Use Vega On Kali Linux 2020 -- Web Penetration Testing'></p>\n",
        "<p align='center'>Install and Use Vega on Kali Linux 2020 -- Web penetration Testing</p><p align='center'>How To Install Vega On Kali Linux 2020 - Youtube</p>\n",
        "<p align='center'><img src='https://i.ytimg.com/vi/bQykANXkM-k/sddefault.jpg' alt='How To Install Vega On Kali Linux 2020 - Youtube'></p>\n",
        "<p align='center'>How to install Vega on Kali Linux 2020 - YouTube</p><p align='center'>Problem With Setting Up Vega Tool On Kali - Hacking - Cyber ...</p>\n",
        "<p align='center'><img src='https://forum-file-backup.s3.dualstack.us-west-2.amazonaws.com/original/2X/9/9247247bfcb4b677c9fcca73e136c604ba79164f.jpeg' alt='Problem With Setting Up Vega Tool On Kali - Hacking - Cyber ...'></p>\n",
        "<p align='center'>Problem with setting up vega tool on kali - Hacking - Cyber ...</p><p align='center'>Scan Websites For Potential Vulnerabilities Using Vega In Kali ...</p>\n",
        "<p align='center'><img src='https://i.ytimg.com/vi/0hruZCJ4a6Q/hq720.jpg?sqp=-oaymwEhCK4FEIIDSFryq4qpAxMIARUAAAAAGAElAADIQj0AgKJD&rs=AOn4CLDonfEp5_LwGCeUwF9QHOIMdCtSLA' alt='Scan Websites For Potential Vulnerabilities Using Vega In Kali ...'></p>\n",
        "<p align='center'>Scan Websites for Potential Vulnerabilities Using Vega in Kali ...</p><p align='center'>How To Use Vega U2013 Chiheb Chebbi - Vega Vulnerability Scanner ...</p>\n",
        "<p align='center'><img src='https://image.pngaaa.com/856/562856-middle.png' alt='How To Use Vega U2013 Chiheb Chebbi - Vega Vulnerability Scanner ...'></p>\n",
        "<p align='center'>How To Use Vega U2013 Chiheb Chebbi - Vega Vulnerability Scanner ...</p><p align='center'>How To Install Vega On Kali Linux 2020 - Youtube</p>\n",
        "<p align='center'><img src='https://i.ytimg.com/vi/bQykANXkM-k/hqdefault.jpg' alt='How To Install Vega On Kali Linux 2020 - Youtube'></p>\n",
        "<p align='center'>How to install Vega on Kali Linux 2020 - YouTube</p><p align='center'>Vega Vulnerability Scanner</p>\n",
        "<p align='center'><img src='https://subgraph.com/img/Vega_showcase2.png' alt='Vega Vulnerability Scanner'></p>\n",
        "<p align='center'>Vega Vulnerability Scanner</p>"
      ]
    },
    {
      "cell_type": "code",
      "source": [],
      "metadata": {
        "id": "5SsF0NXpgBMC"
      },
      "id": "5SsF0NXpgBMC",
      "execution_count": null,
      "outputs": []
    },
    {
      "cell_type": "code",
      "source": [],
      "metadata": {
        "id": "Xag7KU5Yfok1"
      },
      "id": "Xag7KU5Yfok1",
      "execution_count": 5,
      "outputs": []
    }
  ],
  "metadata": {
    "colab": {
      "provenance": [],
      "include_colab_link": true
    },
    "language_info": {
      "name": "python"
    },
    "kernelspec": {
      "name": "python3",
      "display_name": "Python 3"
    }
  },
  "nbformat": 4,
  "nbformat_minor": 5
}